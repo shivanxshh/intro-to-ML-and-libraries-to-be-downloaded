{
 "cells": [
  {
   "cell_type": "markdown",
   "metadata": {},
   "source": [
    "# Devlncept"
   ]
  },
  {
   "cell_type": "markdown",
   "metadata": {},
   "source": [
    "` Submission for Machine Learning internship`"
   ]
  },
  {
   "cell_type": "markdown",
   "metadata": {},
   "source": [
    "## Topic:- Introduction to Machine Learning and & what the libraries to downlaod "
   ]
  },
  {
   "cell_type": "markdown",
   "metadata": {},
   "source": [
    "***Table of contents\n",
    "\n",
    "\n",
    "1. What is Machine Learning?\n",
    "2. Types of Machine Learning?\n",
    "3. Who is using ML and what's it is used for?\n",
    "4. Advantages and Disadvantages of using ML?\n",
    "5. How to make a Machine Learning model?\n",
    "6. Libraries used in ML?"
   ]
  },
  {
   "cell_type": "markdown",
   "metadata": {},
   "source": [
    "## Machine Learning "
   ]
  },
  {
   "cell_type": "markdown",
   "metadata": {},
   "source": [
    "Machine learning is a branch of artificial intelligence (AI) focused on building applications that learn from data and improve their accuracy over time without being programmed to do so. Machine learning is about extracting knowledge from data. It is a research field at the intersection of statistics, artificial intelligence, and computer science and is also known as predictive analytics or statistical learning. \n",
    "Machine learning algorithms are used in a wide variety of applications, such as in medicine, email filtering, speech recognition, and computer vision, where it is difficult or unfeasible to develop conventional algorithms to perform the needed tasks.\n",
    "\n",
    "The logic required to make a decision is specific to a single domain and task.Changing the task even slightly might require a rewrite of the whole system.Designing rules requires a deep understanding of how a decision should be made\n",
    "by a human expert.\n",
    "\n"
   ]
  },
  {
   "cell_type": "markdown",
   "metadata": {},
   "source": [
    "## Types of Machine Learning"
   ]
  },
  {
   "cell_type": "markdown",
   "metadata": {},
   "source": [
    "Machine learning approaches are traditionally divided into three broad categories:-\n",
    "    1. Supervised Learning\n",
    "    2. Unsupervised Learning\n",
    "    3. Reinforcement Learning\n",
    "    \n",
    "    \n",
    "    \n",
    "    \n",
    "    \n",
    "    "
   ]
  },
  {
   "cell_type": "markdown",
   "metadata": {},
   "source": [
    "### 1. Supervised Learning"
   ]
  },
  {
   "cell_type": "markdown",
   "metadata": {},
   "source": [
    "Supervised learning is used whenever we want to predict a certain outcome from a given input, and we have examples of input/output pairs. We build a\n",
    "machine learning model from these input/output pairs, which comprise our training set. Our goal is to make accurate predictions for new, never-before-seen data. Supervised learning often requires human effort to build the training set, but afterward automates and often speeds up an otherwise laborious or infeasible task."
   ]
  },
  {
   "cell_type": "markdown",
   "metadata": {},
   "source": [
    "`There are two major types of supervised machine learning problems, called classification and regression.`"
   ]
  },
  {
   "cell_type": "markdown",
   "metadata": {},
   "source": [
    "Classsification :  In classification, the goal is to predict a class label, which is a choice from a predefined list of possibilities. Classification algorithms are used when the outputs are restricted to a limited set of values. As an example, for a classification algorithm that filters emails, the input would be an incoming email, and the output would be the name of the folder in which to file the email.\n",
    "\n",
    "Regression :- For regression tasks, the goal is to predict a continuous number, or a floating-point\n",
    "number in programming terms (or real number in mathematical terms). Predicting a\n",
    "person’s annual income from their education, their age, and where they live is an\n",
    "example of a regression task."
   ]
  },
  {
   "cell_type": "markdown",
   "metadata": {},
   "source": [
    "### 2. Unsupervised Learning"
   ]
  },
  {
   "cell_type": "markdown",
   "metadata": {},
   "source": [
    "In unsupervised learning, the learning algorithm is just shown the input data and asked to extract knowledge from this data.Unsupervised learning algorithms take a set of data that contains only inputs, and find structure in the data, like grouping or clustering of data points. The algorithms, therefore, learn from test data that has not been labeled, classified or categorized.. Unsupervised learning is less about automating decisions and predictions, and more about identifying patterns and relationships in data that humans would miss. \n",
    "\n",
    "\n",
    "Clustering algorithms, on the other hand, partition data into distinct groups of similar\n",
    "items. Consider the example of uploading photos to a social media site. To allow you to organize your pictures, the site might want to group together pictures that show\n",
    "the same person"
   ]
  },
  {
   "cell_type": "markdown",
   "metadata": {},
   "source": [
    "`Semi-Supervised Learning :- Semi-supervised learning falls between unsupervised learning (without any labeled training data) and supervised learning (with completely labeled training data). Some of the training examples are missing training labels, yet many machine-learning researchers have found that unlabeled data, when used in conjunction with a small amount of labeled data, can produce a considerable improvement in learning accuracy.`"
   ]
  },
  {
   "cell_type": "markdown",
   "metadata": {},
   "source": [
    "### 3. Reinforcement Learning "
   ]
  },
  {
   "cell_type": "markdown",
   "metadata": {},
   "source": [
    "Reinforcement learning is a learning method that interacts with its environment by producing\n",
    "actions and discovers errors or rewards. Trial and error search and delayed reward are the most\n",
    "relevant characteristics of reinforcement learning. This method allows machines and software\n",
    "agents to automatically determine the ideal behavior within a specific context in order to maximize its performance. Simple reward feedback is required for the agent to learn which\n",
    "action is best.\n",
    " \n",
    " Due to its generality, the field is studied in many other disciplines, such as game theory, control theory, operations research, information theory, simulation-based optimization, multi-agent systems, swarm intelligence, statistics and genetic algorithms"
   ]
  },
  {
   "cell_type": "markdown",
   "metadata": {},
   "source": [
    "## Use of Machine learning "
   ]
  },
  {
   "cell_type": "markdown",
   "metadata": {},
   "source": [
    "Top 10 Uses of machine learning are as follows:\n",
    "\n",
    "1. `Image Recognition`\n",
    "The image recognition is one of the most common uses of machine learning\n",
    "applications. It can also be referred to as a digital image and for these images, the\n",
    "measurement describes the output of every pixel in an image. face recognition is an example of image recognition .\n",
    "\n",
    "\n",
    "2. `Voice Recognition`\n",
    "Machine learning (ML) also helps in developing the application for voice\n",
    "recognition. It also referred to as virtual personal assistants (VPA). It will help you\n",
    "to find the information when asked over the voice. There are\n",
    "many devices available in today’s world of Machine learning for voice recognition\n",
    "that is Amazon echo and google home is the smart speakers. \n",
    "\n",
    "3. `Predictions`\n",
    "It helps in building the applications that predict the price of cab or travel for a\n",
    "particular duration and congestion of traffic where can be found. While booking\n",
    "the cab and the app estimates the approximate price of the trip that is done by the\n",
    "uses of machine learning only.\n",
    "\n",
    "4. `Videos Surveillance`\n",
    "It helps to detect the crime or any miss happening that is going to happen before it\n",
    "happens, and it will create an automatic alert to the guards or people who all are posted there and they can help\n",
    "to avoid any issues or problems.\n",
    "\n",
    "5. `Social Media Platform`\n",
    "Social Media is being used for providing better news feed and advertisement as per\n",
    "the user’s interest is mainly done through the uses of machine learning only. There\n",
    "are many examples like friend suggestions, page suggestions for Facebook, songs,and videos suggestion on YouTube.\n",
    "\n",
    "6. `Spam and Malware`\n",
    "Email clients use a number of spam filtering and these spam filters are\n",
    "continuously getting updated and these are mainly done by the uses of machine\n",
    "learning.\n",
    "\n",
    "7. `Search Engine`\n",
    "There are search engines available while searching to provide the best results to\n",
    "customers. There are many machine learning algorithms created for searching the\n",
    "particular user query like for google.\n",
    "\n",
    "\n",
    "\n"
   ]
  },
  {
   "cell_type": "markdown",
   "metadata": {},
   "source": [
    "### Libraries that can be downloaded for Machine Learninig Project"
   ]
  },
  {
   "cell_type": "markdown",
   "metadata": {},
   "source": [
    "-   Scikit -learn - for handling basic ML algorithms like clustering, linear and logisticregressions, regression, classification, and others.\n",
    "-  Numpy - NumPy is a very popular python library for large multi-dimensional array and matrix processing, with the help of a large collection of high-level mathematical functions. It is very useful for fundamental scientific computations in Machine Learning.\n",
    "-  Pandas - for high-level data structures and analysis. It allows merging and filtering of\n",
    "data, as well as gathering it from other external sources like Excel, for instance.\n",
    "-   Keras - for deep learning. It allows fast calculations and prototyping, as it uses the\n",
    "GPU in addition to the CPU of the computer.\n",
    "-   TensorFlow - for working with deep learning by setting up, training, and utilizing\n",
    "artificial neural networks with massive datasets.\n",
    "-  Matplotlib - for creating 2D plots, histograms, charts, and other forms of\n",
    "visualization.\n",
    "\n",
    "-  NLTK - for working with computational linguistics, natural language recognition,\n",
    "and processing.\n",
    "-   Scikit -image for image processing.\n",
    "-   PyBrain - for neural networks, unsupervised and reinforcement learning.\n",
    "-  Caffe - for deep learning that allows switching between the CPU and the GPU and\n",
    "processing 60+ mln images a day using a single NVIDIA K40 GPU.\n",
    "-  StatsModels - for statistical algorithms and data exploration."
   ]
  },
  {
   "cell_type": "code",
   "execution_count": null,
   "metadata": {},
   "outputs": [],
   "source": []
  }
 ],
 "metadata": {
  "kernelspec": {
   "display_name": "Python 3",
   "language": "python",
   "name": "python3"
  },
  "language_info": {
   "codemirror_mode": {
    "name": "ipython",
    "version": 3
   },
   "file_extension": ".py",
   "mimetype": "text/x-python",
   "name": "python",
   "nbconvert_exporter": "python",
   "pygments_lexer": "ipython3",
   "version": "3.7.6"
  }
 },
 "nbformat": 4,
 "nbformat_minor": 4
}
